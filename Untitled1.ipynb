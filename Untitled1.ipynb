{
  "nbformat": 4,
  "nbformat_minor": 0,
  "metadata": {
    "colab": {
      "name": "Untitled1.ipynb",
      "provenance": [],
      "authorship_tag": "ABX9TyNoUXL24HWZXjoykifM0ILr",
      "include_colab_link": true
    },
    "kernelspec": {
      "name": "python3",
      "display_name": "Python 3"
    },
    "language_info": {
      "name": "python"
    }
  },
  "cells": [
    {
      "cell_type": "markdown",
      "metadata": {
        "id": "view-in-github",
        "colab_type": "text"
      },
      "source": [
        "<a href=\"https://colab.research.google.com/github/Nhkrout9/king1/blob/main/Untitled1.ipynb\" target=\"_parent\"><img src=\"https://colab.research.google.com/assets/colab-badge.svg\" alt=\"Open In Colab\"/></a>"
      ]
    },
    {
      "cell_type": "code",
      "execution_count": 1,
      "metadata": {
        "colab": {
          "base_uri": "https://localhost:8080/"
        },
        "id": "4tkwNOfGK5yc",
        "outputId": "14b28cbf-a568-4c2b-ee9e-a924931adce2"
      },
      "outputs": [
        {
          "output_type": "stream",
          "name": "stdout",
          "text": [
            "Mounted at /content/drive\n"
          ]
        }
      ],
      "source": [
        "from google.colab import drive\n",
        "drive.mount('/content/drive')"
      ]
    },
    {
      "cell_type": "code",
      "source": [
        "import pandas as pd \n",
        "df=pd.read_csv('/content/drive/MyDrive/data set of intellipaat/cars (1) (1).csv')"
      ],
      "metadata": {
        "id": "5P6xXfpbLU2M"
      },
      "execution_count": 2,
      "outputs": []
    },
    {
      "cell_type": "code",
      "source": [
        "df['model']"
      ],
      "metadata": {
        "colab": {
          "base_uri": "https://localhost:8080/"
        },
        "id": "bfWmja8vOFRy",
        "outputId": "b4c84270-0fdc-4049-c747-40f022bf6e67"
      },
      "execution_count": 5,
      "outputs": [
        {
          "output_type": "execute_result",
          "data": {
            "text/plain": [
              "0               Mazda RX4\n",
              "1           Mazda RX4 Wag\n",
              "2              Datsun 710\n",
              "3          Hornet 4 Drive\n",
              "4       Hornet Sportabout\n",
              "5                 Valiant\n",
              "6              Duster 360\n",
              "7               Merc 240D\n",
              "8                Merc 230\n",
              "9                Merc 280\n",
              "10              Merc 280C\n",
              "11             Merc 450SE\n",
              "12             Merc 450SL\n",
              "13            Merc 450SLC\n",
              "14     Cadillac Fleetwood\n",
              "15    Lincoln Continental\n",
              "16      Chrysler Imperial\n",
              "17               Fiat 128\n",
              "18            Honda Civic\n",
              "19         Toyota Corolla\n",
              "20          Toyota Corona\n",
              "21       Dodge Challenger\n",
              "22            AMC Javelin\n",
              "23             Camaro Z28\n",
              "24       Pontiac Firebird\n",
              "25              Fiat X1-9\n",
              "26          Porsche 914-2\n",
              "27           Lotus Europa\n",
              "28         Ford Pantera L\n",
              "29           Ferrari Dino\n",
              "30          Maserati Bora\n",
              "31             Volvo 142E\n",
              "Name: model, dtype: object"
            ]
          },
          "metadata": {},
          "execution_count": 5
        }
      ]
    },
    {
      "cell_type": "code",
      "source": [
        "import matplotlib.pyplot as plt\n",
        "x=df['model']\n",
        "y=df['hp']\n",
        "plt.plot(x,y)\n",
        "plt.title('Model Name Vs Horse Power')\n",
        "plt.xlabel('Model of the cars ')\n",
        "plt.ylabel('Horse power of cars ')\n",
        "plt.show()"
      ],
      "metadata": {
        "colab": {
          "base_uri": "https://localhost:8080/",
          "height": 295
        },
        "id": "rxhSEAhOLjMp",
        "outputId": "d21a3e38-4867-4218-b5f4-e6c323cd8b9a"
      },
      "execution_count": 4,
      "outputs": [
        {
          "output_type": "display_data",
          "data": {
            "text/plain": [
              "<Figure size 432x288 with 1 Axes>"
            ],
            "image/png": "[encoded data removed]"
          },
          "metadata": {
            "needs_background": "light"
          }
        }
      ]
    },
    {
      "cell_type": "markdown",
      "source": [
        "## ASSIGNMENT 2"
      ],
      "metadata": {
        "id": "ECcnIEOyOz6r"
      }
    },
    {
      "cell_type": "code",
      "source": [
        "x=df['carb']\n",
        "y=df['gear']\n",
        "plt.bar(x,y)\n",
        "plt.xlabel(\"Number of Carburetors\")\n",
        "plt.ylabel(\"Number of Forward gears\")\n",
        "plt.show()"
      ],
      "metadata": {
        "colab": {
          "base_uri": "https://localhost:8080/",
          "height": 279
        },
        "id": "b-xCiYndPEh7",
        "outputId": "c5106036-7d13-4ab3-ca17-f988f566b8ff"
      },
      "execution_count": 8,
      "outputs": [
        {
          "output_type": "display_data",
          "data": {
            "text/plain": [
              "<Figure size 432x288 with 1 Axes>"
            ],
            "image/png": "[encoded data removed]"
          },
          "metadata": {
            "needs_background": "light"
          }
        }
      ]
    },
    {
      "cell_type": "markdown",
      "source": [
        "##Assignment 3\n"
      ],
      "metadata": {
        "id": "2evSqlhzP5GR"
      }
    },
    {
      "cell_type": "code",
      "source": [
        ""
      ],
      "metadata": {
        "id": "GZf86we1P8CV"
      },
      "execution_count": null,
      "outputs": []
    }
  ]
}